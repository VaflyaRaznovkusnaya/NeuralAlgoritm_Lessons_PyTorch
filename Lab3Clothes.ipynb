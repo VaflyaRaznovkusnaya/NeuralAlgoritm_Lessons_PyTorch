{
  "nbformat": 4,
  "nbformat_minor": 0,
  "metadata": {
    "colab": {
      "provenance": [],
      "authorship_tag": "ABX9TyMnDkaufLI6TRK3TcLYnP7Q",
      "include_colab_link": true
    },
    "kernelspec": {
      "name": "python3",
      "display_name": "Python 3"
    },
    "language_info": {
      "name": "python"
    }
  },
  "cells": [
    {
      "cell_type": "markdown",
      "metadata": {
        "id": "view-in-github",
        "colab_type": "text"
      },
      "source": [
        "<a href=\"https://colab.research.google.com/github/VaflyaRaznovkusnaya/NeuralAlgoritm_Lessons_PyTorch/blob/main/Lab3Clothes.ipynb\" target=\"_parent\"><img src=\"https://colab.research.google.com/assets/colab-badge.svg\" alt=\"Open In Colab\"/></a>"
      ]
    },
    {
      "cell_type": "code",
      "execution_count": null,
      "metadata": {
        "id": "UxBAW2xV5-xH"
      },
      "outputs": [],
      "source": [
        "#Библиотеки\n",
        "import torch\n",
        "import torchvision\n",
        "import matplotlib.pyplot\n",
        "import numpy\n",
        "from torch.optim import Adam\n",
        "from torch.autograd import Variable\n",
        "from torchvision.datasets import FashionMNIST\n",
        "from torchvision.transforms import transforms\n",
        "from torch.utils.data import DataLoader\n",
        "\n",
        "#Готовим Датасет\n",
        "\n",
        "transformf = transforms.Compose([\n",
        "    transforms.ToTensor(),\n",
        "    transforms.Normalize((0.5,), (0.5,))\n",
        "])\n",
        "\n",
        "batch_size = 10\n",
        "#Что можем распозновать\n",
        "# Для FASHIONMNIST. FASHIONMNIST содержит базу черно-белых элементов одежды, которые прономерованы от 0 до 9 в лэйблах\n",
        "Labels_number = 10\n",
        "tags = ('0', '1', '2', '3', '4', '5', '6', '7', '8', '9')\n",
        "\n",
        "#Загружаем и оформляем обучающую и тестовую выборки\n",
        "train_path = FashionMNIST(root=\"./data\",train=True,transform=transformf,download=True)\n",
        "train_set = DataLoader(train_path, batch_size=batch_size, shuffle=True, num_workers=0)\n",
        "#print(\"В обучающей выборке столько картинок : \", len(train_set)*batch_size)\n",
        "#Будем грузить в главном потоке, поэтому num_workers = 0\n",
        "test_path = FashionMNIST(root=\"./data\",train=False,transform=transformf,download=True)\n",
        "test_set = DataLoader(test_path, batch_size=batch_size, shuffle=False, num_workers=0)\n",
        "#print(\"В тестовой выборке столько картинок : \", len(test_set)*batch_size)\n",
        "\n",
        "#Класс нейронки\n",
        "class Neural(torch.nn.Module):\n",
        "    def __init__(self):\n",
        "        super(Neural, self).__init__()\n",
        "\n",
        "        self.conv1 = torch.nn.Conv2d(in_channels=1, out_channels=12, kernel_size=5, stride=1, padding=1)\n",
        "        self.bn1 = torch.nn.BatchNorm2d(12)\n",
        "        self.conv2 = torch.nn.Conv2d(in_channels=12, out_channels=12, kernel_size=5, stride=1, padding=1)\n",
        "        self.bn2 = torch.nn.BatchNorm2d(12)\n",
        "        self.pool = torch.nn.MaxPool2d(2,2)\n",
        "        self.conv4 = torch.nn.Conv2d(in_channels=12, out_channels=24, kernel_size=5, stride=1, padding=1)\n",
        "        self.bn4 = torch.nn.BatchNorm2d(24)\n",
        "        self.conv5 = torch.nn.Conv2d(in_channels=24, out_channels=24, kernel_size=5, stride=1, padding=1)\n",
        "        self.bn5 = torch.nn.BatchNorm2d(24)\n",
        "        self.fc1 = torch.nn.Linear(24*8*8, 10)\n",
        "\n",
        "    def forward(self, input):\n",
        "        output = torch.nn.functional.relu(self.bn1(self.conv1(input)))\n",
        "        output = torch.nn.functional.relu(self.bn2(self.conv2(output)))\n",
        "        output = self.pool(output)\n",
        "        output = torch.nn.functional.relu(self.bn4(self.conv4(output)))\n",
        "        output = torch.nn.functional.relu(self.bn5(self.conv5(output)))\n",
        "        output = output.view(-1, 24*8*8)\n",
        "        output = self.fc1(output)\n",
        "\n",
        "        return output\n",
        "\n",
        "SmartKitty = Neural() #Создаём экземпляр нейронки\n",
        "\n",
        "#Оптимизатор\n",
        "loss_fn = torch.nn.CrossEntropyLoss()\n",
        "optimizer = Adam(SmartKitty.parameters(), lr=0.001, weight_decay=0.0001)\n",
        "#===================================Функции=========================================================\n",
        "#Обучение\n",
        "def train(num_epochs):\n",
        "\n",
        "    device = torch.device(\"cuda:0\" if torch.cuda.is_available() else \"cpu\")\n",
        "    #print(\"The model will be running on\", device, \"device\")\n",
        "    SmartKitty.to(device)\n",
        "\n",
        "    for epoch in range(num_epochs):\n",
        "        running_loss = 0.0\n",
        "        running_acc = 0.0\n",
        "\n",
        "        for i, (images, labels) in enumerate(train_set, 0):\n",
        "\n",
        "            images = Variable(images.to(device))\n",
        "            labels = Variable(labels.to(device))\n",
        "\n",
        "            optimizer.zero_grad()\n",
        "            outputs = SmartKitty(images)\n",
        "            loss = loss_fn(outputs, labels)\n",
        "            loss.backward()\n",
        "            optimizer.step()\n",
        "\n",
        "        #Выводим точность для всей эпохи\n",
        "        accuracy = testAccuracy()\n",
        "        print('Эпоха', epoch+1,' закончилась с точностью ', accuracy)\n",
        "\n",
        "#Проверка точности\n",
        "def testAccuracy():\n",
        "\n",
        "    SmartKitty.eval()\n",
        "    accuracy = 0.0\n",
        "    total = 0.0\n",
        "\n",
        "    with torch.no_grad():\n",
        "        for data in test_set:\n",
        "            images, labels = data\n",
        "            outputs = SmartKitty(images)\n",
        "            _, predicted = torch.max(outputs.data, 1)\n",
        "            total += labels.size(0)\n",
        "            accuracy += (predicted == labels).sum().item()\n",
        "\n",
        "    accuracy = (accuracy / total)\n",
        "    return(accuracy)\n",
        "\n",
        "#Вызов итогов\n",
        "def showImages(img):\n",
        "    img = img / 2 + 0.5     # unnormalize\n",
        "    npimg = img.numpy()\n",
        "    matplotlib.pyplot.imshow(numpy.transpose(npimg, (1, 2, 0)))\n",
        "    matplotlib.pyplot.show()\n",
        "\n",
        "def finalTest():\n",
        "    # use second database (network haven't seen it)\n",
        "    images, labels = next(iter(test_set))\n",
        "\n",
        "    showImages(torchvision.utils.make_grid(images))\n",
        "    print('Реальное значение: ', ' '.join('%5s' % tags[labels[j]]\n",
        "                               for j in range(batch_size)))\n",
        "\n",
        "    outputs = SmartKitty(images)\n",
        "    _, predicted = torch.max(outputs, 1)\n",
        "    print('Предположительное: ', ' '.join('%5s' % tags[predicted[j]]\n",
        "                              for j in range(batch_size)))"
      ]
    },
    {
      "cell_type": "code",
      "source": [
        "train(5)\n",
        "print('\\n Модель закончила обучение')"
      ],
      "metadata": {
        "colab": {
          "base_uri": "https://localhost:8080/"
        },
        "id": "OVsmouIaplDV",
        "outputId": "d5e1350f-de57-4c83-c758-fbca181ed082"
      },
      "execution_count": null,
      "outputs": [
        {
          "output_type": "stream",
          "name": "stdout",
          "text": [
            "Эпоха 1  закончилась с точностью  0.8386\n",
            "Эпоха 2  закончилась с точностью  0.8554\n",
            "Эпоха 3  закончилась с точностью  0.8627\n",
            "Эпоха 4  закончилась с точностью  0.8629\n",
            "Эпоха 5  закончилась с точностью  0.8609\n",
            "\n",
            " Модель закончила обучение\n"
          ]
        }
      ]
    },
    {
      "cell_type": "code",
      "source": [
        "finalTest()"
      ],
      "metadata": {
        "id": "a2Y_hf_gaeeF",
        "colab": {
          "base_uri": "https://localhost:8080/",
          "height": 172
        },
        "outputId": "dec05e0c-4303-406c-c168-f92ec6ede241"
      },
      "execution_count": null,
      "outputs": [
        {
          "output_type": "display_data",
          "data": {
            "text/plain": [
              "<Figure size 432x288 with 1 Axes>"
            ],
            "image/png": "[encoded data removed]"
          },
          "metadata": {
            "needs_background": "light"
          }
        },
        {
          "output_type": "stream",
          "name": "stdout",
          "text": [
            "Реальное значение:      9     2     1     1     6     1     4     6     5     7\n",
            "Предположительное:      9     2     1     1     6     1     6     6     5     7\n"
          ]
        }
      ]
    }
  ]
}